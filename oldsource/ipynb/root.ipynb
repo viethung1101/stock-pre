{
 "cells": [
  {
   "cell_type": "markdown",
   "id": "35766252",
   "metadata": {
    "papermill": {
     "duration": 0.026678,
     "end_time": "2021-08-24T19:52:32.477790",
     "exception": false,
     "start_time": "2021-08-24T19:52:32.451112",
     "status": "completed"
    },
    "tags": []
   },
   "source": [
    "# Algorithmic-Trading-Stock-Price-Model\n",
    "\n",
    "### Problem Statement\n",
    "To predict the volatility of intraday stock market considering various parameters.\n",
    "\n",
    "\n",
    "### Existing System\n",
    "Traditional approaches to stock market analysis and stock price prediction include fundamental analysis, which looks at a stock's past performance and the general credibility of the company itself, and statistical analysis, which is solely concerned with number crunching and identifying patterns in stock price variation. The latter is commonly achieved with the help of Genetic Algorithms (GA) or Artificial Neural Networks (ANN's), but these fail to capture correlation between stock prices in the form of long-term temporal dependencies. Another major issue with using simple ANNs for stock predictions the phenomenon of exploding / vanishing gradient, where the weights of a large network either become too large or too small (respectively), drastically slowing their convergence to the optimal value. \n",
    "\n",
    "\n",
    "### Approach to the problem\n",
    "* Live Data Collection using yfinance Library\n",
    "* Pre processing the data for drawing insights in terms of stability of the company\n",
    "* Visualizing the stock price of the company right from the date of listing till present graphically\n",
    "* Developing a Model using LSTM( Type of Recurrent Neural Network)\n",
    "* Developing a Deployment file (app.py) using Streamlit\n",
    "* Deploying our model on Website \n",
    "\n",
    "### Need for this Model\n",
    "Stock market price prediction is a difficult undertaking that generally requires a lot of human-computer interaction. Traditional batch processing methods cannot be used effectively for stock market analysis due to the linked nature of stock prices. We present an online learning technique that employs a recurrent neural network of some sort (RNN) called Long Short Term Memory (LSTM), which uses stochastic gradient descent to update the weights for individual data points. When compared to existing stock price prediction systems, this will yield more accurate results. With varying sizes of data, the network is trained and evaluated for accuracy, and the results are tallied. A comparison with respect to accuracy is then performed against an Artificial Neural Network\n",
    "\n"
   ]
  },
  {
   "cell_type": "code",
   "execution_count": 1,
   "id": "e8e423aa",
   "metadata": {
    "execution": {
     "iopub.execute_input": "2021-08-24T19:52:44.987401Z",
     "iopub.status.busy": "2021-08-24T19:52:44.986440Z",
     "iopub.status.idle": "2021-08-24T19:52:44.997148Z",
     "shell.execute_reply": "2021-08-24T19:52:44.997732Z",
     "shell.execute_reply.started": "2021-08-24T19:49:44.194638Z"
    },
    "papermill": {
     "duration": 0.038587,
     "end_time": "2021-08-24T19:52:44.997919",
     "exception": false,
     "start_time": "2021-08-24T19:52:44.959332",
     "status": "completed"
    },
    "tags": []
   },
   "outputs": [],
   "source": [
    "import yfinance as yf\n",
    "import pandas as pd\n"
   ]
  },
  {
   "cell_type": "code",
   "execution_count": 2,
   "id": "701cd8d4",
   "metadata": {
    "execution": {
     "iopub.execute_input": "2021-08-24T19:52:45.175987Z",
     "iopub.status.busy": "2021-08-24T19:52:45.174712Z",
     "iopub.status.idle": "2021-08-24T19:52:45.942611Z",
     "shell.execute_reply": "2021-08-24T19:52:45.942129Z",
     "shell.execute_reply.started": "2021-08-24T19:49:44.208991Z"
    },
    "papermill": {
     "duration": 0.921829,
     "end_time": "2021-08-24T19:52:45.942742",
     "exception": false,
     "start_time": "2021-08-24T19:52:45.020913",
     "status": "completed"
    },
    "tags": []
   },
   "outputs": [
    {
     "name": "stdout",
     "output_type": "stream",
     "text": [
      "[*********************100%***********************]  1 of 1 completed\n"
     ]
    }
   ],
   "source": [
    "df = yf.download('TSLA')"
   ]
  },
  {
   "cell_type": "code",
   "execution_count": 3,
   "id": "07946c28",
   "metadata": {
    "execution": {
     "iopub.execute_input": "2021-08-24T19:52:46.065237Z",
     "iopub.status.busy": "2021-08-24T19:52:46.064332Z",
     "iopub.status.idle": "2021-08-24T19:52:46.077677Z",
     "shell.execute_reply": "2021-08-24T19:52:46.078162Z",
     "shell.execute_reply.started": "2021-08-24T19:49:45.929138Z"
    },
    "papermill": {
     "duration": 0.040833,
     "end_time": "2021-08-24T19:52:46.078323",
     "exception": false,
     "start_time": "2021-08-24T19:52:46.037490",
     "status": "completed"
    },
    "tags": []
   },
   "outputs": [
    {
     "data": {
      "text/html": [
       "<div>\n",
       "<style scoped>\n",
       "    .dataframe tbody tr th:only-of-type {\n",
       "        vertical-align: middle;\n",
       "    }\n",
       "\n",
       "    .dataframe tbody tr th {\n",
       "        vertical-align: top;\n",
       "    }\n",
       "\n",
       "    .dataframe thead th {\n",
       "        text-align: right;\n",
       "    }\n",
       "</style>\n",
       "<table border=\"1\" class=\"dataframe\">\n",
       "  <thead>\n",
       "    <tr style=\"text-align: right;\">\n",
       "      <th></th>\n",
       "      <th>Open</th>\n",
       "      <th>High</th>\n",
       "      <th>Low</th>\n",
       "      <th>Close</th>\n",
       "      <th>Adj Close</th>\n",
       "      <th>Volume</th>\n",
       "    </tr>\n",
       "    <tr>\n",
       "      <th>Date</th>\n",
       "      <th></th>\n",
       "      <th></th>\n",
       "      <th></th>\n",
       "      <th></th>\n",
       "      <th></th>\n",
       "      <th></th>\n",
       "    </tr>\n",
       "  </thead>\n",
       "  <tbody>\n",
       "    <tr>\n",
       "      <th>2023-03-13</th>\n",
       "      <td>167.460007</td>\n",
       "      <td>177.350006</td>\n",
       "      <td>163.910004</td>\n",
       "      <td>174.479996</td>\n",
       "      <td>174.479996</td>\n",
       "      <td>167790300</td>\n",
       "    </tr>\n",
       "    <tr>\n",
       "      <th>2023-03-14</th>\n",
       "      <td>177.309998</td>\n",
       "      <td>183.800003</td>\n",
       "      <td>177.139999</td>\n",
       "      <td>183.259995</td>\n",
       "      <td>183.259995</td>\n",
       "      <td>143717900</td>\n",
       "    </tr>\n",
       "    <tr>\n",
       "      <th>2023-03-15</th>\n",
       "      <td>180.800003</td>\n",
       "      <td>182.339996</td>\n",
       "      <td>176.029999</td>\n",
       "      <td>180.449997</td>\n",
       "      <td>180.449997</td>\n",
       "      <td>145995600</td>\n",
       "    </tr>\n",
       "    <tr>\n",
       "      <th>2023-03-16</th>\n",
       "      <td>180.369995</td>\n",
       "      <td>185.809998</td>\n",
       "      <td>178.839996</td>\n",
       "      <td>184.130005</td>\n",
       "      <td>184.130005</td>\n",
       "      <td>121374500</td>\n",
       "    </tr>\n",
       "    <tr>\n",
       "      <th>2023-03-17</th>\n",
       "      <td>184.520004</td>\n",
       "      <td>186.220001</td>\n",
       "      <td>177.330002</td>\n",
       "      <td>180.130005</td>\n",
       "      <td>180.130005</td>\n",
       "      <td>132936600</td>\n",
       "    </tr>\n",
       "  </tbody>\n",
       "</table>\n",
       "</div>"
      ],
      "text/plain": [
       "                  Open        High         Low       Close   Adj Close  \\\n",
       "Date                                                                     \n",
       "2023-03-13  167.460007  177.350006  163.910004  174.479996  174.479996   \n",
       "2023-03-14  177.309998  183.800003  177.139999  183.259995  183.259995   \n",
       "2023-03-15  180.800003  182.339996  176.029999  180.449997  180.449997   \n",
       "2023-03-16  180.369995  185.809998  178.839996  184.130005  184.130005   \n",
       "2023-03-17  184.520004  186.220001  177.330002  180.130005  180.130005   \n",
       "\n",
       "               Volume  \n",
       "Date                   \n",
       "2023-03-13  167790300  \n",
       "2023-03-14  143717900  \n",
       "2023-03-15  145995600  \n",
       "2023-03-16  121374500  \n",
       "2023-03-17  132936600  "
      ]
     },
     "execution_count": 3,
     "metadata": {},
     "output_type": "execute_result"
    }
   ],
   "source": [
    "df.tail()"
   ]
  },
  {
   "cell_type": "code",
   "execution_count": 4,
   "id": "78f9bbd5",
   "metadata": {
    "execution": {
     "iopub.execute_input": "2021-08-24T19:52:46.130355Z",
     "iopub.status.busy": "2021-08-24T19:52:46.129426Z",
     "iopub.status.idle": "2021-08-24T19:52:51.978176Z",
     "shell.execute_reply": "2021-08-24T19:52:51.978667Z",
     "shell.execute_reply.started": "2021-08-24T19:49:45.945018Z"
    },
    "papermill": {
     "duration": 5.876495,
     "end_time": "2021-08-24T19:52:51.978878",
     "exception": false,
     "start_time": "2021-08-24T19:52:46.102383",
     "status": "completed"
    },
    "tags": []
   },
   "outputs": [],
   "source": [
    "import numpy as np\n",
    "import math \n",
    "from sklearn.preprocessing import MinMaxScaler\n",
    "import matplotlib.pyplot as plt\n",
    "from tensorflow.keras.models import Sequential\n",
    "from tensorflow.keras.layers import Dense\n",
    "from tensorflow.keras.layers import LSTM"
   ]
  },
  {
   "cell_type": "markdown",
   "id": "3ff5f634",
   "metadata": {
    "papermill": {
     "duration": 0.024184,
     "end_time": "2021-08-24T19:52:52.027723",
     "exception": false,
     "start_time": "2021-08-24T19:52:52.003539",
     "status": "completed"
    },
    "tags": []
   },
   "source": [
    "# Historical Data Visualization"
   ]
  },
  {
   "cell_type": "code",
   "execution_count": 5,
   "id": "39b7caf6",
   "metadata": {
    "execution": {
     "iopub.execute_input": "2021-08-24T19:52:52.363191Z",
     "iopub.status.busy": "2021-08-24T19:52:52.362554Z",
     "iopub.status.idle": "2021-08-24T19:52:52.368912Z",
     "shell.execute_reply": "2021-08-24T19:52:52.369381Z",
     "shell.execute_reply.started": "2021-08-24T19:49:48.251588Z"
    },
    "papermill": {
     "duration": 0.035294,
     "end_time": "2021-08-24T19:52:52.369544",
     "exception": false,
     "start_time": "2021-08-24T19:52:52.334250",
     "status": "completed"
    },
    "tags": []
   },
   "outputs": [
    {
     "data": {
      "text/plain": [
       "array([[  1.59266698],\n",
       "       [  1.58866704],\n",
       "       [  1.46399999],\n",
       "       ...,\n",
       "       [180.44999695],\n",
       "       [184.13000488],\n",
       "       [180.13000488]])"
      ]
     },
     "execution_count": 5,
     "metadata": {},
     "output_type": "execute_result"
    }
   ],
   "source": [
    "data = df.filter(['Close'])\n",
    "df = np.array(data).reshape(-1,1)\n",
    "df"
   ]
  },
  {
   "cell_type": "code",
   "execution_count": 6,
   "id": "918ffc18",
   "metadata": {
    "execution": {
     "iopub.execute_input": "2021-08-24T19:52:52.424462Z",
     "iopub.status.busy": "2021-08-24T19:52:52.423820Z",
     "iopub.status.idle": "2021-08-24T19:52:52.430805Z",
     "shell.execute_reply": "2021-08-24T19:52:52.430382Z",
     "shell.execute_reply.started": "2021-08-24T19:49:48.261968Z"
    },
    "papermill": {
     "duration": 0.035393,
     "end_time": "2021-08-24T19:52:52.430987",
     "exception": false,
     "start_time": "2021-08-24T19:52:52.395594",
     "status": "completed"
    },
    "tags": []
   },
   "outputs": [
    {
     "data": {
      "text/plain": [
       "array([[0.00131893],\n",
       "       [0.00130915],\n",
       "       [0.00100428],\n",
       "       ...,\n",
       "       [0.43871204],\n",
       "       [0.44771144],\n",
       "       [0.4379295 ]])"
      ]
     },
     "execution_count": 6,
     "metadata": {},
     "output_type": "execute_result"
    }
   ],
   "source": [
    "scaler = MinMaxScaler(feature_range=(0,1))\n",
    "scaled_df = scaler.fit_transform(np.array(df).reshape(-1,1))\n",
    "scaled_df"
   ]
  },
  {
   "cell_type": "code",
   "execution_count": 7,
   "id": "eaf374b6",
   "metadata": {
    "execution": {
     "iopub.execute_input": "2021-08-24T19:52:52.488876Z",
     "iopub.status.busy": "2021-08-24T19:52:52.488070Z",
     "iopub.status.idle": "2021-08-24T19:52:52.492010Z",
     "shell.execute_reply": "2021-08-24T19:52:52.491507Z",
     "shell.execute_reply.started": "2021-08-24T19:49:48.275074Z"
    },
    "papermill": {
     "duration": 0.035132,
     "end_time": "2021-08-24T19:52:52.492140",
     "exception": false,
     "start_time": "2021-08-24T19:52:52.457008",
     "status": "completed"
    },
    "tags": []
   },
   "outputs": [
    {
     "data": {
      "text/plain": [
       "2562"
      ]
     },
     "execution_count": 7,
     "metadata": {},
     "output_type": "execute_result"
    }
   ],
   "source": [
    "scaled_df\n",
    "training_data_len = math.ceil(len(scaled_df)*0.8)\n",
    "training_data_len"
   ]
  },
  {
   "cell_type": "code",
   "execution_count": 16,
   "id": "e061a912",
   "metadata": {
    "execution": {
     "iopub.execute_input": "2021-08-24T19:52:52.559281Z",
     "iopub.status.busy": "2021-08-24T19:52:52.558588Z",
     "iopub.status.idle": "2021-08-24T19:52:52.562777Z",
     "shell.execute_reply": "2021-08-24T19:52:52.561943Z",
     "shell.execute_reply.started": "2021-08-24T19:49:48.286978Z"
    },
    "papermill": {
     "duration": 0.043971,
     "end_time": "2021-08-24T19:52:52.562992",
     "exception": false,
     "start_time": "2021-08-24T19:52:52.519021",
     "status": "completed"
    },
    "tags": []
   },
   "outputs": [
    {
     "name": "stdout",
     "output_type": "stream",
     "text": [
      "[array([1.31893362e-03, 1.30915180e-03, 1.00428027e-03, 5.54310805e-04,\n",
      "       5.05407544e-05, 0.00000000e+00, 2.70634579e-04, 2.60852469e-04,\n",
      "       2.03792057e-04, 3.81495574e-04, 6.58652434e-04, 6.66803171e-04,\n",
      "       7.89077648e-04, 9.96129534e-04, 7.33645693e-04, 7.20604046e-04,\n",
      "       8.47769140e-04, 8.95047734e-04, 8.39618402e-04, 7.74404629e-04,\n",
      "       8.02119295e-04, 7.41799054e-04, 6.74953909e-04, 8.34727493e-04,\n",
      "       1.00264919e-03, 8.90156824e-04, 7.58100530e-04, 6.17893497e-04,\n",
      "       6.19524578e-04, 5.26596139e-04, 3.42368009e-04, 2.93458335e-04,\n",
      "       4.10841611e-04, 4.85837203e-04, 5.46160067e-04, 4.84206122e-04,\n",
      "       4.87468283e-04, 5.38006705e-04, 7.05931027e-04, 5.54310805e-04,\n",
      "       6.68434252e-04, 6.43979415e-04, 6.35826345e-04, 6.63543343e-04,\n",
      "       5.99960650e-04, 7.58100530e-04, 8.57551250e-04, 8.55919878e-04,\n",
      "       7.72773549e-04, 8.31465041e-04, 8.00490546e-04, 7.12453017e-04,\n",
      "       8.02119295e-04, 8.67333068e-04, 1.00754010e-03, 8.37987322e-04,\n",
      "       7.22235126e-04, 8.57551250e-04, 8.10272656e-04, 6.63543343e-04])]\n",
      "[0.0006130025882602297]\n",
      "\n"
     ]
    }
   ],
   "source": [
    "train_data = scaled_df[0:training_data_len , :]\n",
    "x_train = []\n",
    "y_train = []\n",
    "for i in range(60, len(train_data)):\n",
    "    x_train.append(train_data[i-60:i, 0])\n",
    "    y_train.append(train_data[i, 0])\n",
    "    if i<= 60:\n",
    "        print(x_train)\n",
    "        print(y_train)\n",
    "        print()"
   ]
  },
  {
   "cell_type": "code",
   "execution_count": 28,
   "id": "cae4a109",
   "metadata": {},
   "outputs": [
    {
     "data": {
      "text/plain": [
       "array([0.14181536, 0.15229183, 0.15078378, 0.16454046, 0.15602854,\n",
       "       0.14990504, 0.15897289, 0.1575431 , 0.15911799, 0.16110209,\n",
       "       0.16060323, 0.15953047, 0.16074668, 0.15407376, 0.15817078,\n",
       "       0.1538928 , 0.16198085, 0.17346811, 0.17996005, 0.19447483,\n",
       "       0.22103607, 0.2240163 , 0.22010679, 0.22473691, 0.2492521 ,\n",
       "       0.24149338, 0.24471164, 0.2494738 , 0.24207703, 0.24210964,\n",
       "       0.26528632, 0.25311759, 0.25702548, 0.24410352, 0.228441  ,\n",
       "       0.24842877, 0.23813981, 0.24182759, 0.23993316, 0.23068433,\n",
       "       0.23952721, 0.23985327, 0.23953047, 0.2402739 , 0.2342629 ,\n",
       "       0.22869697, 0.22149419, 0.25090034, 0.26169961, 0.2665433 ,\n",
       "       0.29669289, 0.3050809 , 0.30368535, 0.32378725, 0.33163724,\n",
       "       0.32580395, 0.32729406, 0.34846056, 0.36241288, 0.35828   ])"
      ]
     },
     "execution_count": 28,
     "metadata": {},
     "output_type": "execute_result"
    }
   ],
   "source": [
    "x_train[-1]"
   ]
  },
  {
   "cell_type": "code",
   "execution_count": 26,
   "id": "23bf5a19",
   "metadata": {},
   "outputs": [
    {
     "name": "stdout",
     "output_type": "stream",
     "text": [
      "0.4036356402057477\n"
     ]
    },
    {
     "data": {
      "text/plain": [
       "0.35828000156562734"
      ]
     },
     "execution_count": 26,
     "metadata": {},
     "output_type": "execute_result"
    }
   ],
   "source": [
    "print(y_train[-1])\n",
    "y_train[-2]\n",
    "\n",
    "#y_train value not in corresponding index x_train "
   ]
  },
  {
   "cell_type": "code",
   "execution_count": null,
   "id": "49dc738a",
   "metadata": {},
   "outputs": [],
   "source": [
    "print "
   ]
  },
  {
   "cell_type": "code",
   "execution_count": 12,
   "id": "10019923",
   "metadata": {
    "execution": {
     "iopub.execute_input": "2021-08-24T19:52:52.624048Z",
     "iopub.status.busy": "2021-08-24T19:52:52.623365Z",
     "iopub.status.idle": "2021-08-24T19:52:52.633892Z",
     "shell.execute_reply": "2021-08-24T19:52:52.633406Z",
     "shell.execute_reply.started": "2021-08-24T19:49:48.308335Z"
    },
    "papermill": {
     "duration": 0.042639,
     "end_time": "2021-08-24T19:52:52.634028",
     "exception": false,
     "start_time": "2021-08-24T19:52:52.591389",
     "status": "completed"
    },
    "tags": []
   },
   "outputs": [
    {
     "data": {
      "text/plain": [
       "(5011, 60, 1)"
      ]
     },
     "execution_count": 12,
     "metadata": {},
     "output_type": "execute_result"
    }
   ],
   "source": [
    "x_train, y_train = np.array(x_train), np.array(y_train)\n",
    "x_train = np.reshape(x_train, (x_train.shape[0], x_train.shape[1], 1))\n",
    "x_train.shape"
   ]
  },
  {
   "cell_type": "markdown",
   "id": "4df5ec22",
   "metadata": {
    "papermill": {
     "duration": 0.027413,
     "end_time": "2021-08-24T19:52:52.689087",
     "exception": false,
     "start_time": "2021-08-24T19:52:52.661674",
     "status": "completed"
    },
    "tags": []
   },
   "source": [
    "# Modelling"
   ]
  },
  {
   "cell_type": "code",
   "execution_count": 13,
   "id": "e13e4df3",
   "metadata": {
    "execution": {
     "iopub.execute_input": "2021-08-24T19:52:52.750202Z",
     "iopub.status.busy": "2021-08-24T19:52:52.749560Z",
     "iopub.status.idle": "2021-08-24T19:52:53.510205Z",
     "shell.execute_reply": "2021-08-24T19:52:53.509607Z",
     "shell.execute_reply.started": "2021-08-24T19:49:48.325387Z"
    },
    "papermill": {
     "duration": 0.793503,
     "end_time": "2021-08-24T19:52:53.510347",
     "exception": false,
     "start_time": "2021-08-24T19:52:52.716844",
     "status": "completed"
    },
    "tags": []
   },
   "outputs": [],
   "source": [
    "model = Sequential()\n",
    "model.add(LSTM(50,return_sequences = True, input_shape = (x_train.shape[1], 1)))\n",
    "model.add(LSTM(50,return_sequences = False))   \n",
    "model.add(Dense(25))\n",
    "model.add(Dense(1))"
   ]
  },
  {
   "cell_type": "code",
   "execution_count": 14,
   "id": "82161a7d",
   "metadata": {
    "execution": {
     "iopub.execute_input": "2021-08-24T19:52:53.576547Z",
     "iopub.status.busy": "2021-08-24T19:52:53.571468Z",
     "iopub.status.idle": "2021-08-24T19:55:05.309428Z",
     "shell.execute_reply": "2021-08-24T19:55:05.309920Z",
     "shell.execute_reply.started": "2021-08-24T19:49:49.097019Z"
    },
    "papermill": {
     "duration": 131.77179,
     "end_time": "2021-08-24T19:55:05.310156",
     "exception": false,
     "start_time": "2021-08-24T19:52:53.538366",
     "status": "completed"
    },
    "tags": []
   },
   "outputs": [
    {
     "name": "stdout",
     "output_type": "stream",
     "text": [
      "Epoch 1/20\n",
      "126/126 [==============================] - 9s 49ms/step - loss: 0.0032\n",
      "Epoch 2/20\n",
      "126/126 [==============================] - 6s 51ms/step - loss: 1.7006e-04\n",
      "Epoch 3/20\n",
      "126/126 [==============================] - 6s 50ms/step - loss: 1.3257e-04\n",
      "Epoch 4/20\n",
      "126/126 [==============================] - 6s 50ms/step - loss: 1.1026e-04\n",
      "Epoch 5/20\n",
      "126/126 [==============================] - 6s 51ms/step - loss: 1.0091e-04\n",
      "Epoch 6/20\n",
      "126/126 [==============================] - 7s 52ms/step - loss: 1.1761e-04\n",
      "Epoch 7/20\n",
      "126/126 [==============================] - 7s 53ms/step - loss: 1.1241e-04\n",
      "Epoch 8/20\n",
      "126/126 [==============================] - 6s 50ms/step - loss: 9.5191e-05\n",
      "Epoch 9/20\n",
      "126/126 [==============================] - 6s 51ms/step - loss: 7.3528e-05\n",
      "Epoch 10/20\n",
      "126/126 [==============================] - 6s 50ms/step - loss: 8.4170e-05\n",
      "Epoch 11/20\n",
      "126/126 [==============================] - 6s 51ms/step - loss: 7.3245e-05\n",
      "Epoch 12/20\n",
      "126/126 [==============================] - 7s 53ms/step - loss: 6.5402e-05\n",
      "Epoch 13/20\n",
      "126/126 [==============================] - 6s 50ms/step - loss: 8.5084e-05\n",
      "Epoch 14/20\n",
      "126/126 [==============================] - 7s 52ms/step - loss: 7.9099e-05\n",
      "Epoch 15/20\n",
      "126/126 [==============================] - 6s 51ms/step - loss: 7.3443e-05\n",
      "Epoch 16/20\n",
      "126/126 [==============================] - 6s 50ms/step - loss: 5.9918e-05\n",
      "Epoch 17/20\n",
      "126/126 [==============================] - 7s 55ms/step - loss: 6.7251e-05\n",
      "Epoch 18/20\n",
      "126/126 [==============================] - 6s 51ms/step - loss: 5.4374e-05\n",
      "Epoch 19/20\n",
      "126/126 [==============================] - 6s 51ms/step - loss: 7.8824e-05\n",
      "Epoch 20/20\n",
      "126/126 [==============================] - 6s 50ms/step - loss: 4.5969e-05\n"
     ]
    },
    {
     "data": {
      "text/plain": [
       "<tensorflow.python.keras.callbacks.History at 0x7ffac57ab150>"
      ]
     },
     "execution_count": 14,
     "metadata": {},
     "output_type": "execute_result"
    }
   ],
   "source": [
    "model.compile(optimizer = 'adam', loss = 'mean_squared_error')\n",
    "model.fit(x_train, y_train, batch_size=40, epochs=20)"
   ]
  },
  {
   "cell_type": "code",
   "execution_count": 15,
   "id": "7c7b93df",
   "metadata": {
    "execution": {
     "iopub.execute_input": "2021-08-24T19:55:06.530141Z",
     "iopub.status.busy": "2021-08-24T19:55:06.529479Z",
     "iopub.status.idle": "2021-08-24T19:55:06.534842Z",
     "shell.execute_reply": "2021-08-24T19:55:06.535391Z",
     "shell.execute_reply.started": "2021-08-24T19:52:00.493018Z"
    },
    "papermill": {
     "duration": 0.619761,
     "end_time": "2021-08-24T19:55:06.535548",
     "exception": false,
     "start_time": "2021-08-24T19:55:05.915787",
     "status": "completed"
    },
    "tags": []
   },
   "outputs": [],
   "source": [
    "test_data = scaled_df[training_data_len - 60: , :]\n",
    "x_test = []\n",
    "y_test = df[training_data_len: , :]\n",
    "for i in range(60,len(test_data)):\n",
    "    x_test.append(test_data[i-60:i, 0])"
   ]
  },
  {
   "cell_type": "code",
   "execution_count": 16,
   "id": "2dd82dbd",
   "metadata": {
    "execution": {
     "iopub.execute_input": "2021-08-24T19:55:07.752647Z",
     "iopub.status.busy": "2021-08-24T19:55:07.752027Z",
     "iopub.status.idle": "2021-08-24T19:55:07.758115Z",
     "shell.execute_reply": "2021-08-24T19:55:07.757515Z",
     "shell.execute_reply.started": "2021-08-24T19:52:00.500358Z"
    },
    "papermill": {
     "duration": 0.61228,
     "end_time": "2021-08-24T19:55:07.758253",
     "exception": false,
     "start_time": "2021-08-24T19:55:07.145973",
     "status": "completed"
    },
    "tags": []
   },
   "outputs": [],
   "source": [
    "x_test = np.array(x_test)\n",
    "x_test = np.reshape(x_test, (x_test.shape[0], x_test.shape[1], 1))"
   ]
  },
  {
   "cell_type": "code",
   "execution_count": 17,
   "id": "8c62ce17",
   "metadata": {
    "execution": {
     "iopub.execute_input": "2021-08-24T19:55:09.070309Z",
     "iopub.status.busy": "2021-08-24T19:55:09.069608Z",
     "iopub.status.idle": "2021-08-24T19:55:10.308952Z",
     "shell.execute_reply": "2021-08-24T19:55:10.308440Z",
     "shell.execute_reply.started": "2021-08-24T19:52:00.516069Z"
    },
    "papermill": {
     "duration": 1.858133,
     "end_time": "2021-08-24T19:55:10.309095",
     "exception": false,
     "start_time": "2021-08-24T19:55:08.450962",
     "status": "completed"
    },
    "tags": []
   },
   "outputs": [
    {
     "data": {
      "text/plain": [
       "4.113797423401119"
      ]
     },
     "execution_count": 17,
     "metadata": {},
     "output_type": "execute_result"
    }
   ],
   "source": [
    "predictions = model.predict(x_test)\n",
    "predictions = scaler.inverse_transform(predictions)\n",
    "rmse = np.sqrt(np.mean(predictions-y_test)**2)\n",
    "rmse"
   ]
  },
  {
   "cell_type": "markdown",
   "id": "42b23362",
   "metadata": {
    "papermill": {
     "duration": 0.613792,
     "end_time": "2021-08-24T19:55:11.536370",
     "exception": false,
     "start_time": "2021-08-24T19:55:10.922578",
     "status": "completed"
    },
    "tags": []
   },
   "source": [
    "# Visualization of Test Data VS Predicted Data"
   ]
  },
  {
   "cell_type": "code",
   "execution_count": 18,
   "id": "3a2e067a",
   "metadata": {
    "execution": {
     "iopub.execute_input": "2021-08-24T19:55:12.807471Z",
     "iopub.status.busy": "2021-08-24T19:55:12.806490Z",
     "iopub.status.idle": "2021-08-24T19:55:13.031310Z",
     "shell.execute_reply": "2021-08-24T19:55:13.030596Z",
     "shell.execute_reply.started": "2021-08-24T19:52:01.798201Z"
    },
    "papermill": {
     "duration": 0.863178,
     "end_time": "2021-08-24T19:55:13.031473",
     "exception": false,
     "start_time": "2021-08-24T19:55:12.168295",
     "status": "completed"
    },
    "tags": []
   },
   "outputs": [
    {
     "name": "stderr",
     "output_type": "stream",
     "text": [
      "/opt/conda/lib/python3.7/site-packages/ipykernel_launcher.py:3: SettingWithCopyWarning: \n",
      "A value is trying to be set on a copy of a slice from a DataFrame.\n",
      "Try using .loc[row_indexer,col_indexer] = value instead\n",
      "\n",
      "See the caveats in the documentation: https://pandas.pydata.org/pandas-docs/stable/user_guide/indexing.html#returning-a-view-versus-a-copy\n",
      "  This is separate from the ipykernel package so we can avoid doing imports until\n"
     ]
    },
    {
     "data": {
      "image/png": "[encoded data removed]",
      "text/plain": [
       "<Figure size 1152x576 with 1 Axes>"
      ]
     },
     "metadata": {
      "needs_background": "light"
     },
     "output_type": "display_data"
    }
   ],
   "source": [
    "train = data[:training_data_len]\n",
    "val = data[training_data_len:]\n",
    "val['predictions'] = predictions\n",
    "plt.figure(figsize=(16, 8))\n",
    "plt.title('model')\n",
    "plt.xlabel('Date', fontsize=18)\n",
    "plt.ylabel('Close_Price', fontsize=18)\n",
    "plt.plot(train['Close'])\n",
    "plt.plot(val[['Close','predictions']],)\n",
    "plt.legend(['train', 'val', 'predictions'], loc = 'lower right')\n",
    "plt.show()"
   ]
  },
  {
   "cell_type": "code",
   "execution_count": 19,
   "id": "82dd79ca",
   "metadata": {
    "execution": {
     "iopub.execute_input": "2021-08-24T19:55:14.311313Z",
     "iopub.status.busy": "2021-08-24T19:55:14.307812Z",
     "iopub.status.idle": "2021-08-24T19:55:14.468624Z",
     "shell.execute_reply": "2021-08-24T19:55:14.469141Z",
     "shell.execute_reply.started": "2021-08-24T19:52:02.037905Z"
    },
    "papermill": {
     "duration": 0.812736,
     "end_time": "2021-08-24T19:55:14.469310",
     "exception": false,
     "start_time": "2021-08-24T19:55:13.656574",
     "status": "completed"
    },
    "tags": []
   },
   "outputs": [
    {
     "data": {
      "image/png": "[encoded data removed]",
      "text/plain": [
       "<Figure size 1152x576 with 1 Axes>"
      ]
     },
     "metadata": {
      "needs_background": "light"
     },
     "output_type": "display_data"
    }
   ],
   "source": [
    "test = df[training_data_len:]\n",
    "plt.figure(figsize=(16,8))\n",
    "plt.title('historical price')\n",
    "plt.plot(test)\n",
    "plt.plot(predictions)\n",
    "plt.xlabel('Days', fontsize=18)\n",
    "plt.ylabel('Close_Price', fontsize=18)\n",
    "plt.legend(['test', 'predictions'], loc = 'lower right')\n",
    "plt.show()"
   ]
  },
  {
   "cell_type": "code",
   "execution_count": null,
   "id": "c46f1811",
   "metadata": {
    "papermill": {
     "duration": 0.617508,
     "end_time": "2021-08-24T19:55:15.706075",
     "exception": false,
     "start_time": "2021-08-24T19:55:15.088567",
     "status": "completed"
    },
    "tags": []
   },
   "outputs": [],
   "source": []
  }
 ],
 "metadata": {
  "kernelspec": {
   "display_name": "Python 3",
   "language": "python",
   "name": "python3"
  },
  "language_info": {
   "codemirror_mode": {
    "name": "ipython",
    "version": 3
   },
   "file_extension": ".py",
   "mimetype": "text/x-python",
   "name": "python",
   "nbconvert_exporter": "python",
   "pygments_lexer": "ipython3",
   "version": "3.7.10"
  },
  "papermill": {
   "default_parameters": {},
   "duration": 172.912498,
   "end_time": "2021-08-24T19:55:17.773568",
   "environment_variables": {},
   "exception": null,
   "input_path": "__notebook__.ipynb",
   "output_path": "__notebook__.ipynb",
   "parameters": {},
   "start_time": "2021-08-24T19:52:24.861070",
   "version": "2.3.3"
  }
 },
 "nbformat": 4,
 "nbformat_minor": 5
}
